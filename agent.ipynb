{
 "cells": [
  {
   "cell_type": "markdown",
   "metadata": {},
   "source": [
    "# AI Agent Example \n",
    "\n",
    "## AI Agents\n",
    "By themselves, large language models (LLMs) can't take actions — they just output text. Agents are systems that take a high-level task and use an LLM as a reasoning engine to decide what actions to take and execute those actions. After executing actions, the results can be fed back into the LLM to determine whether more actions are needed, or whether it is okay to finish.\n",
    "\n",
    "## AI Agent Example\n",
    "In this example, an agent can have conversations with its users (humans or other agents). It can provide up-to-date information about the present that the LLM does not possess because it was not trained on it.\n",
    "\n",
    "The agent:\n",
    " - Interacts with a search engine (an external tool) to answer users' questions. The engine is called [Tavily](https://www.tavily.com/) and provides a web search API that enables real-time information retrieval from the internet. It's useful for grounding LLMs with fresh, factual, and search-based answers.\n",
    " - Has conversational memory — meaning that it can be used as a multi-turn chatbot. The agent remembers past interactions across multiple turns of a conversation which in turn enables context-aware decision-making and more natural, coherent dialogue over time.\n",
    "\n",
    "## Agentic Workflow\n",
    "Here is an AI Agent sequence diagram:\n",
    "\n",
    " <center><img src=\"images/sequence_diagram.png\"/></center>\n",
    "\n",
    " Source: [LangGraph](https://langchain-ai.github.io/langgraph/reference/agents/#langgraph.prebuilt.chat_agent_executor.create_react_agent)\n",
    "\n",
    " This example uses the [LangChain](https://python.langchain.com/) LLM framework, but there are others — such as OpenAI's tools or CrewAI — that can provide a similar experience.\n"
   ]
  },
  {
   "cell_type": "markdown",
   "metadata": {},
   "source": [
    "## Framework Setup "
   ]
  },
  {
   "cell_type": "code",
   "execution_count": 1,
   "metadata": {},
   "outputs": [],
   "source": [
    "# LangChain\n",
    "# https://python.langchain.com/docs/how_to/installation/\n",
    "#%pip install -qU langgraph langchain-tavily langgraph-checkpoint-sqlite"
   ]
  },
  {
   "cell_type": "code",
   "execution_count": 2,
   "metadata": {},
   "outputs": [],
   "source": [
    "#%pip install -qU python-dotenv"
   ]
  },
  {
   "cell_type": "code",
   "execution_count": 3,
   "metadata": {},
   "outputs": [],
   "source": [
    "import os\n",
    "import json"
   ]
  },
  {
   "cell_type": "code",
   "execution_count": 4,
   "metadata": {},
   "outputs": [
    {
     "name": "stdout",
     "output_type": "stream",
     "text": [
      "true\n"
     ]
    }
   ],
   "source": [
    "from dotenv import load_dotenv\n",
    "\n",
    "load_dotenv(override=True)\n",
    "MY_ENV_VAR = os.getenv('LANGSMITH_TRACING')\n",
    "print(MY_ENV_VAR)"
   ]
  },
  {
   "cell_type": "markdown",
   "metadata": {},
   "source": [
    "## Tools\n",
    "\n",
    "\n",
    "For all available tools, see [LangChain providers](https://python.langchain.com/docs/integrations/providers/)."
   ]
  },
  {
   "cell_type": "code",
   "execution_count": 5,
   "metadata": {},
   "outputs": [],
   "source": [
    "from langchain_tavily import TavilySearch"
   ]
  },
  {
   "cell_type": "code",
   "execution_count": 6,
   "metadata": {},
   "outputs": [],
   "source": [
    "tools = []"
   ]
  },
  {
   "cell_type": "code",
   "execution_count": 7,
   "metadata": {},
   "outputs": [
    {
     "name": "stdout",
     "output_type": "stream",
     "text": [
      "{\n",
      "    \"answer\": null,\n",
      "    \"follow_up_questions\": null,\n",
      "    \"images\": [],\n",
      "    \"query\": \"What is the current USD to GBP exchange rate?\",\n",
      "    \"response_time\": 0.93,\n",
      "    \"results\": [\n",
      "        {\n",
      "            \"content\": \"Convert US Dollar to British Pound ; 1 USD. 0.745395 GBP ; 5 USD. 3.72698 GBP ; 10 USD. 7.45395 GBP ; 25 USD. 18.6349 GBP ; 50 USD. 37.2698 GBP.\",\n",
      "            \"raw_content\": null,\n",
      "            \"score\": 0.91399205,\n",
      "            \"title\": \"1 USD to GBP - US Dollars to British Pounds Exchange Rate - Xe\",\n",
      "            \"url\": \"https://www.xe.com/currencyconverter/convert/?Amount=1&From=USD&To=GBP\"\n",
      "        },\n",
      "        {\n",
      "            \"content\": \"Convert USD to GBP at the real exchange rate. Amount. USD. Converted to. GBP. $1.000 USD = \\u00a30.7458 GBP. Mid-market exchange rate at 20:59. Track the exchange\",\n",
      "            \"raw_content\": null,\n",
      "            \"score\": 0.9065293,\n",
      "            \"title\": \"USD to GBP - Convert US dollars to British pounds sterling - Wise\",\n",
      "            \"url\": \"https://wise.com/us/currency-converter/usd-to-gbp-rate\"\n",
      "        }\n",
      "    ]\n",
      "}\n"
     ]
    },
    {
     "name": "stderr",
     "output_type": "stream",
     "text": [
      "Failed to send compressed multipart ingest: langsmith.utils.LangSmithError: Failed to POST https://api.smith.langchain.com/runs/multipart in LangSmith API. HTTPError('400 Client Error: Bad Request for url: https://api.smith.langchain.com/runs/multipart', '{\"error\":\"Bad request: invalid \\'dotted_order\\': dotted_order 765b64c7-2541-44b0-bb69-2698c04a9fcf has timestamp 2025-07-19 21:13:25.108878 +0000 UTC earlier than parent timestamp 2025-07-19 21:14:31.022538 +0000 UTC for run_id:765b64c7-2541-44b0-bb69-2698c04a9fcf trace_id:9cace128-34ce-4b22-b198-f22ef66a7aa0 dotted_order:20250719T211431016399Z9cace128-34ce-4b22-b198-f22ef66a7aa0.20250719T211431022538Z598d37d7-058d-422f-b404-464951f90fcc.20250719T211325108878Z765b64c7-2541-44b0-bb69-2698c04a9fcf parent_run_id:598d37d7-058d-422f-b404-464951f90fcc\"}\\n')\n",
      "Failed to send compressed multipart ingest: langsmith.utils.LangSmithError: Failed to POST https://api.smith.langchain.com/runs/multipart in LangSmith API. HTTPError('400 Client Error: Bad Request for url: https://api.smith.langchain.com/runs/multipart', '{\"error\":\"Bad request: invalid \\'dotted_order\\': dotted_order 69f44630-c6fd-4114-a8d2-00619129c2e7 has timestamp 2025-07-19 21:16:28.824952 +0000 UTC earlier than parent timestamp 2025-07-19 21:17:36.315859 +0000 UTC for run_id:69f44630-c6fd-4114-a8d2-00619129c2e7 trace_id:4e070360-12aa-42f9-99c2-aa0e6322a38d dotted_order:20250719T211618831729Z4e070360-12aa-42f9-99c2-aa0e6322a38d.20250719T211736315859Za753b3bc-3a44-416c-88d9-a0be8120ebcb.20250719T211628824952Z69f44630-c6fd-4114-a8d2-00619129c2e7 parent_run_id:a753b3bc-3a44-416c-88d9-a0be8120ebcb\"}\\n')\n"
     ]
    }
   ],
   "source": [
    "search = TavilySearch(max_results=2)\n",
    "search_results = search.invoke(\"What is the current USD to GBP exchange rate?\")\n",
    "print(json.dumps(search_results, sort_keys=True, indent=4))\n",
    "\n",
    "# Add the tool to the reference list\n",
    "tools.append(search)"
   ]
  },
  {
   "cell_type": "code",
   "execution_count": 8,
   "metadata": {},
   "outputs": [
    {
     "data": {
      "text/plain": [
       "[TavilySearch(max_results=2, api_wrapper=TavilySearchAPIWrapper(tavily_api_key=SecretStr('**********'), api_base_url=None))]"
      ]
     },
     "execution_count": 8,
     "metadata": {},
     "output_type": "execute_result"
    }
   ],
   "source": [
    "tools"
   ]
  },
  {
   "cell_type": "markdown",
   "metadata": {},
   "source": [
    "## Large Language Model"
   ]
  },
  {
   "cell_type": "code",
   "execution_count": 9,
   "metadata": {},
   "outputs": [
    {
     "name": "stdout",
     "output_type": "stream",
     "text": [
      "Note: you may need to restart the kernel to use updated packages.\n"
     ]
    }
   ],
   "source": [
    "#%pip install -qU \"langchain[openai]\" # behind Open AI GPT, used by Azure OpenAI\n",
    "# gpt-4o is now the default GPT-4 model as of mid-2025\n",
    "\n",
    "%pip install -qU \"langchain[anthropic]\" # behind Claude\n",
    "#%pip install -qU langchain-anthropic\n",
    "#%pip install -qU \"langchain[google-genai]\" # behind Gemini\n",
    "#%pip install -qU \"langchain[google-vertexai]\" # behind Vertex AI\n",
    "#%pip install -qU \"langchain[aws]\" # behind Amazon Bedrock\n",
    "#%pip install -qU \"langchain[groq]\" # behind Groq AI, used by Perplexity AI and Meta AI"
   ]
  },
  {
   "cell_type": "code",
   "execution_count": 10,
   "metadata": {},
   "outputs": [],
   "source": [
    "from langchain.chat_models import init_chat_model\n",
    "\n",
    "#model = init_chat_model(\"gpt-4.1\", model_provider=\"openai\")\n",
    "#model = init_chat_model(\"gpt-4o-mini\", model_provider=\"openai\") # default and cheapest GPT-4 model\n",
    "model = init_chat_model(\"anthropic:claude-3-5-sonnet-latest\")"
   ]
  },
  {
   "cell_type": "code",
   "execution_count": 11,
   "metadata": {},
   "outputs": [
    {
     "data": {
      "text/plain": [
       "'Hello! How can I help you today?'"
      ]
     },
     "execution_count": 11,
     "metadata": {},
     "output_type": "execute_result"
    }
   ],
   "source": [
    "query = \"Hi!\"\n",
    "response = model.invoke([{\"role\": \"user\", \"content\": query}])\n",
    "response.text()"
   ]
  },
  {
   "cell_type": "code",
   "execution_count": 13,
   "metadata": {},
   "outputs": [
    {
     "data": {
      "text/plain": [
       "\"I cannot provide real-time exchange rates as they fluctuate constantly throughout the day. To get the current USD to GBP exchange rate, I recommend:\\n\\n1. Checking financial websites like xe.com or Bloomberg\\n2. Using your bank's online currency converter\\n3. Looking up Google's currency converter\\n4. Consulting a forex trading platform\""
      ]
     },
     "execution_count": 13,
     "metadata": {},
     "output_type": "execute_result"
    }
   ],
   "source": [
    "query = \"What is the current USD to GBP exchange rate?\"\n",
    "response = model.invoke([{\"role\": \"user\", \"content\": query}])\n",
    "response.text()"
   ]
  },
  {
   "cell_type": "code",
   "execution_count": 14,
   "metadata": {},
   "outputs": [
    {
     "data": {
      "text/plain": [
       "[]"
      ]
     },
     "execution_count": 14,
     "metadata": {},
     "output_type": "execute_result"
    }
   ],
   "source": [
    "response.tool_calls"
   ]
  },
  {
   "cell_type": "code",
   "execution_count": 15,
   "metadata": {},
   "outputs": [],
   "source": [
    "# Bind the model to the tools\n",
    "model_with_tools = model.bind_tools(tools)"
   ]
  },
  {
   "cell_type": "code",
   "execution_count": 16,
   "metadata": {},
   "outputs": [
    {
     "data": {
      "text/plain": [
       "\"Hello! I'm here to help you search for information using the available search tool. However, I need to know what specific information you're looking for. Please let me know what topic or question you'd like to learn more about, and I'll be happy to help you find relevant and accurate information.\""
      ]
     },
     "execution_count": 16,
     "metadata": {},
     "output_type": "execute_result"
    }
   ],
   "source": [
    "query = \"Hi!\"\n",
    "response = model_with_tools.invoke([{\"role\": \"user\", \"content\": query}])\n",
    "response.text()"
   ]
  },
  {
   "cell_type": "code",
   "execution_count": 17,
   "metadata": {},
   "outputs": [
    {
     "data": {
      "text/plain": [
       "[]"
      ]
     },
     "execution_count": 17,
     "metadata": {},
     "output_type": "execute_result"
    }
   ],
   "source": [
    "response.tool_calls"
   ]
  },
  {
   "cell_type": "code",
   "execution_count": 18,
   "metadata": {},
   "outputs": [],
   "source": [
    "#print(json.dumps(response.to_json(), sort_keys=True, indent=4))"
   ]
  },
  {
   "cell_type": "code",
   "execution_count": 19,
   "metadata": {},
   "outputs": [
    {
     "data": {
      "text/plain": [
       "\"I'll search for the current USD to GBP exchange rate using Tavily search.\""
      ]
     },
     "execution_count": 19,
     "metadata": {},
     "output_type": "execute_result"
    }
   ],
   "source": [
    "query = \"What is the current USD to GBP exchange rate?\"\n",
    "response = model_with_tools.invoke([{\"role\": \"user\", \"content\": query}])\n",
    "response.text()"
   ]
  },
  {
   "cell_type": "code",
   "execution_count": 20,
   "metadata": {},
   "outputs": [
    {
     "data": {
      "text/plain": [
       "[{'name': 'tavily_search',\n",
       "  'args': {'query': 'current USD to GBP exchange rate', 'time_range': 'day'},\n",
       "  'id': 'toolu_016RNV4mnUwWgteH8EEWnC1v',\n",
       "  'type': 'tool_call'}]"
      ]
     },
     "execution_count": 20,
     "metadata": {},
     "output_type": "execute_result"
    }
   ],
   "source": [
    "response.tool_calls"
   ]
  },
  {
   "cell_type": "markdown",
   "metadata": {},
   "source": [
    "## AI Agent Definition"
   ]
  },
  {
   "cell_type": "code",
   "execution_count": 21,
   "metadata": {},
   "outputs": [],
   "source": [
    "#from langchain.chat_models import init_chat_model\n",
    "#from langchain_tavily import TavilySearch\n",
    "from langgraph.checkpoint.memory import MemorySaver\n",
    "from langgraph.prebuilt import create_react_agent"
   ]
  },
  {
   "cell_type": "code",
   "execution_count": 22,
   "metadata": {},
   "outputs": [],
   "source": [
    "memory = MemorySaver()\n",
    "model = init_chat_model(\"anthropic:claude-3-5-sonnet-latest\",\n",
    "    temperature=0, # Lower temperature for more deterministic responses\n",
    "    max_tokens=1000, # Response length limit, cost limitation, and performance optimization (ca. 75 tokens per 100 words)\n",
    "    )\n",
    "search = TavilySearch(max_results=2)\n",
    "tools = [search]\n",
    "agent_executor = create_react_agent(\n",
    "    model, \n",
    "    tools, \n",
    "    checkpointer=memory, \n",
    "    prompt=\"You are a helpful assistant\"\n",
    ")"
   ]
  },
  {
   "cell_type": "markdown",
   "metadata": {},
   "source": [
    "## Using AI Agent"
   ]
  },
  {
   "cell_type": "code",
   "execution_count": 23,
   "metadata": {},
   "outputs": [
    {
     "name": "stdout",
     "output_type": "stream",
     "text": [
      "================================\u001b[1m Human Message \u001b[0m=================================\n",
      "\n",
      "Hi, I'm Krzysztof and I live in London.\n",
      "==================================\u001b[1m Ai Message \u001b[0m==================================\n",
      "\n",
      "Hello Krzysztof! Nice to meet you. I see you're based in London. While you've introduced yourself, you haven't asked any specific question or made any request that would require me to use the available tools. Is there something specific you'd like to know or learn about? I'd be happy to help you with any questions you might have!\n"
     ]
    }
   ],
   "source": [
    "config = {\"configurable\": {\"thread_id\": \"a001\"}}\n",
    "\n",
    "input_message = {\n",
    "    \"role\": \"user\",\n",
    "    \"content\": \"Hi, I'm Krzysztof and I live in London.\",\n",
    "}\n",
    "\n",
    "for step in agent_executor.stream(\n",
    "    {\"messages\": [input_message]}, config, stream_mode=\"values\"):\n",
    "    step[\"messages\"][-1].pretty_print()"
   ]
  },
  {
   "cell_type": "code",
   "execution_count": 24,
   "metadata": {},
   "outputs": [
    {
     "name": "stdout",
     "output_type": "stream",
     "text": [
      "================================\u001b[1m Human Message \u001b[0m=================================\n",
      "\n",
      "What's the weather where I live?\n",
      "==================================\u001b[1m Ai Message \u001b[0m==================================\n",
      "\n",
      "[{'text': 'Let me search for current weather information in London.', 'type': 'text'}, {'id': 'toolu_01Fq3cz6XhNCW9BLehLiV9e2', 'input': {'query': 'current weather London UK', 'time_range': 'day'}, 'name': 'tavily_search', 'type': 'tool_use'}]\n",
      "Tool Calls:\n",
      "  tavily_search (toolu_01Fq3cz6XhNCW9BLehLiV9e2)\n",
      " Call ID: toolu_01Fq3cz6XhNCW9BLehLiV9e2\n",
      "  Args:\n",
      "    query: current weather London UK\n",
      "    time_range: day\n",
      "=================================\u001b[1m Tool Message \u001b[0m=================================\n",
      "Name: tavily_search\n",
      "\n",
      "{\"query\": \"current weather London UK\", \"follow_up_questions\": null, \"answer\": null, \"images\": [], \"results\": [{\"title\": \"Weather in London, UK\", \"url\": \"https://www.weatherapi.com/\", \"content\": \"{'location': {'name': 'London', 'region': 'City of London, Greater London', 'country': 'United Kingdom', 'lat': 51.5171, 'lon': -0.1062, 'tz_id': 'Europe/London', 'localtime_epoch': 1752959694, 'localtime': '2025-07-19 22:14'}, 'current': {'last_updated_epoch': 1752958800, 'last_updated': '2025-07-19 22:00', 'temp_c': 19.3, 'temp_f': 66.7, 'is_day': 0, 'condition': {'text': 'Clear', 'icon': '//cdn.weatherapi.com/weather/64x64/night/113.png', 'code': 1000}, 'wind_mph': 4.7, 'wind_kph': 7.6, 'wind_degree': 203, 'wind_dir': 'SSW', 'pressure_mb': 1003.0, 'pressure_in': 29.62, 'precip_mm': 0.0, 'precip_in': 0.0, 'humidity': 78, 'cloud': 0, 'feelslike_c': 19.3, 'feelslike_f': 66.7, 'windchill_c': 17.9, 'windchill_f': 64.3, 'heatindex_c': 17.9, 'heatindex_f': 64.3, 'dewpoint_c': 12.9, 'dewpoint_f': 55.2, 'vis_km': 10.0, 'vis_miles': 6.0, 'uv': 0.0, 'gust_mph': 7.6, 'gust_kph': 12.3}}\", \"score\": 0.8888103, \"raw_content\": null}, {\"url\": \"https://www.youtube.com/watch?v=P9HfA2cO1HI\", \"title\": \"Thunderstorms push north - Morning Weather Forecast UK - YouTube\", \"content\": \"... hourly forecast and live warnings on the Met Office website or app. 19/07/2025 - Thunderstorms push north - Morning Weather Forecast UK – Met Office Weather.\", \"score\": 0.64639384, \"raw_content\": null}], \"response_time\": 1.44}\n",
      "==================================\u001b[1m Ai Message \u001b[0m==================================\n",
      "\n",
      "Based on the latest weather information for London, UK:\n",
      "- The temperature is 19.3°C (66.7°F)\n",
      "- The weather is clear\n",
      "- Humidity is at 78%\n",
      "- Wind speed is 7.6 km/h from the SSW direction\n",
      "- Visibility is good at 10 km\n",
      "- There's no precipitation\n",
      "\n",
      "The weather is quite mild and clear, though you might want to check a local weather service for the most up-to-the-minute forecast, especially as there might be some thunderstorms moving through the area according to the Met Office forecast.\n"
     ]
    }
   ],
   "source": [
    "input_message = {\n",
    "    \"role\": \"user\",\n",
    "    \"content\": \"What's the weather where I live?\",\n",
    "}\n",
    "\n",
    "for step in agent_executor.stream(\n",
    "    {\"messages\": [input_message]}, config, stream_mode=\"values\"):\n",
    "    step[\"messages\"][-1].pretty_print()"
   ]
  },
  {
   "cell_type": "code",
   "execution_count": 25,
   "metadata": {},
   "outputs": [
    {
     "name": "stdout",
     "output_type": "stream",
     "text": [
      "================================\u001b[1m Human Message \u001b[0m=================================\n",
      "\n",
      "What's the USD to GBP exchange rate?\n",
      "==================================\u001b[1m Ai Message \u001b[0m==================================\n",
      "\n",
      "[{'text': 'Let me search for the current USD to GBP exchange rate.', 'type': 'text'}, {'id': 'toolu_01W1VFeLWMZrwztuF6oqvvoy', 'input': {'query': 'current USD to GBP exchange rate', 'topic': 'finance', 'time_range': 'day'}, 'name': 'tavily_search', 'type': 'tool_use'}]\n",
      "Tool Calls:\n",
      "  tavily_search (toolu_01W1VFeLWMZrwztuF6oqvvoy)\n",
      " Call ID: toolu_01W1VFeLWMZrwztuF6oqvvoy\n",
      "  Args:\n",
      "    query: current USD to GBP exchange rate\n",
      "    topic: finance\n",
      "    time_range: day\n",
      "=================================\u001b[1m Tool Message \u001b[0m=================================\n",
      "Name: tavily_search\n",
      "\n",
      "{\"query\": \"current USD to GBP exchange rate\", \"follow_up_questions\": null, \"answer\": null, \"images\": [], \"results\": [{\"url\": \"https://www.forbes.com/advisor/money-transfer/currency-converter/usd-gbp/\", \"title\": \"USD To GBP: Convert United States Dollar to British Pound ...\", \"content\": \"1 USD = 0.745545 GBP Jul 19, 2025 16:07 UTC ... Check the currency rates against all the world currencies here. The currency converter below is easy to use and\", \"score\": 0.8138313, \"raw_content\": null}, {\"url\": \"https://www.forbes.com/advisor/money-transfer/currency-converter/gbp-usd/\", \"title\": \"GBP To USD: Convert British Pound Sterling to United ...\", \"content\": \"1 GBP = 1.3413 USD Jul 19, 2025 13:38 UTC ... Check the currency rates against all the world currencies here. The currency converter below is easy to use and the\", \"score\": 0.7950386, \"raw_content\": null}], \"response_time\": 1.77}\n",
      "==================================\u001b[1m Ai Message \u001b[0m==================================\n",
      "\n",
      "Based on the latest information:\n",
      "1 USD = 0.7455 GBP (British Pounds)\n",
      "or conversely,\n",
      "1 GBP = 1.3413 USD\n",
      "\n",
      "Please note that exchange rates fluctuate constantly throughout the day, so for the most accurate rate at the exact moment you're making a transaction, you should check with your bank or currency exchange service.\n"
     ]
    }
   ],
   "source": [
    "input_message = {\n",
    "    \"role\": \"user\",\n",
    "    \"content\": \"What's the USD to GBP exchange rate?\",\n",
    "}\n",
    "\n",
    "for step in agent_executor.stream(\n",
    "    {\"messages\": [input_message]}, config, stream_mode=\"values\"):\n",
    "    step[\"messages\"][-1].pretty_print()"
   ]
  },
  {
   "cell_type": "code",
   "execution_count": 26,
   "metadata": {},
   "outputs": [
    {
     "name": "stdout",
     "output_type": "stream",
     "text": [
      "================================\u001b[1m Human Message \u001b[0m=================================\n",
      "\n",
      "Where can I exchange money nearby?\n",
      "==================================\u001b[1m Ai Message \u001b[0m==================================\n",
      "\n",
      "[{'text': 'Let me search for currency exchange locations in London.', 'type': 'text'}, {'id': 'toolu_01EwoZCCPVsuZmbX7yjp3gQv', 'input': {'query': 'best currency exchange places London UK money exchange bureaus'}, 'name': 'tavily_search', 'type': 'tool_use'}]\n",
      "Tool Calls:\n",
      "  tavily_search (toolu_01EwoZCCPVsuZmbX7yjp3gQv)\n",
      " Call ID: toolu_01EwoZCCPVsuZmbX7yjp3gQv\n",
      "  Args:\n",
      "    query: best currency exchange places London UK money exchange bureaus\n",
      "=================================\u001b[1m Tool Message \u001b[0m=================================\n",
      "Name: tavily_search\n",
      "\n",
      "{\"query\": \"best currency exchange places London UK money exchange bureaus\", \"follow_up_questions\": null, \"answer\": null, \"images\": [], \"results\": [{\"url\": \"https://wise.com/gb/blog/currency-exchange-london\", \"title\": \"Best places to exchange currency in London - Wise\", \"content\": \"Three popular foreign exchange companies in London are Travelex, eurochange and Currency Online Group.\", \"score\": 0.8021998, \"raw_content\": null}, {\"url\": \"https://www.reddit.com/r/travel/comments/wj5amb/best_place_to_exchange_dollars_into_pounds_in/\", \"title\": \"Best place to exchange dollars into pounds in London? - Reddit\", \"content\": \"Marks and Spencer have a really good conversion rate. It's a supermarket but some have an office upstairs for currency conversion.\", \"score\": 0.6097339, \"raw_content\": null}], \"response_time\": 1.2}\n",
      "==================================\u001b[1m Ai Message \u001b[0m==================================\n",
      "\n",
      "Here are some popular places where you can exchange money in London:\n",
      "\n",
      "1. Major Currency Exchange Companies:\n",
      "- Travelex (multiple locations across London, including major train stations and airports)\n",
      "- Eurochange (various locations throughout the city)\n",
      "- Currency Online Group\n",
      "\n",
      "2. Alternative Options:\n",
      "- Marks & Spencer stores (some locations have currency exchange offices, often with competitive rates)\n",
      "- Post Office branches (generally offer reliable exchange services)\n",
      "- Major banks (though rates might not be as competitive)\n",
      "\n",
      "Some tips:\n",
      "- Exchange rates can vary significantly between locations\n",
      "- City center locations (especially around tourist areas) might have less favorable rates\n",
      "- It's often worth comparing rates between different providers\n",
      "- Some places offer better rates if you order online in advance\n",
      "- Avoid exchanging money at airports if possible, as rates are typically less favorable\n",
      "\n",
      "Would you like me to search for specific exchange locations in a particular area of London? If so, just let me know which area you're interested in, and I can provide more targeted information.\n"
     ]
    }
   ],
   "source": [
    "input_message = {\n",
    "    \"role\": \"user\",\n",
    "    \"content\": \"Where can I exchange money nearby?\",\n",
    "}\n",
    "\n",
    "for step in agent_executor.stream(\n",
    "    {\"messages\": [input_message]}, config, stream_mode=\"values\"):\n",
    "    step[\"messages\"][-1].pretty_print()"
   ]
  },
  {
   "cell_type": "code",
   "execution_count": 27,
   "metadata": {},
   "outputs": [
    {
     "name": "stdout",
     "output_type": "stream",
     "text": [
      "================================\u001b[1m Human Message \u001b[0m=================================\n",
      "\n",
      "Hi, I'm Krzysztof and I live in London.\n",
      "==================================\u001b[1m Ai Message \u001b[0m==================================\n",
      "\n",
      "Hello Krzysztof! Nice to meet you. I see you're based in London. While you've introduced yourself, you haven't asked any specific question or made any request that would require me to use the available tools. Is there something specific you'd like to know or learn about? I'd be happy to help you with any questions you might have!\n",
      "================================\u001b[1m Human Message \u001b[0m=================================\n",
      "\n",
      "What's the weather where I live?\n",
      "==================================\u001b[1m Ai Message \u001b[0m==================================\n",
      "\n",
      "[{'text': 'Let me search for current weather information in London.', 'type': 'text'}, {'id': 'toolu_01Fq3cz6XhNCW9BLehLiV9e2', 'input': {'query': 'current weather London UK', 'time_range': 'day'}, 'name': 'tavily_search', 'type': 'tool_use'}]\n",
      "Tool Calls:\n",
      "  tavily_search (toolu_01Fq3cz6XhNCW9BLehLiV9e2)\n",
      " Call ID: toolu_01Fq3cz6XhNCW9BLehLiV9e2\n",
      "  Args:\n",
      "    query: current weather London UK\n",
      "    time_range: day\n",
      "=================================\u001b[1m Tool Message \u001b[0m=================================\n",
      "Name: tavily_search\n",
      "\n",
      "{\"query\": \"current weather London UK\", \"follow_up_questions\": null, \"answer\": null, \"images\": [], \"results\": [{\"title\": \"Weather in London, UK\", \"url\": \"https://www.weatherapi.com/\", \"content\": \"{'location': {'name': 'London', 'region': 'City of London, Greater London', 'country': 'United Kingdom', 'lat': 51.5171, 'lon': -0.1062, 'tz_id': 'Europe/London', 'localtime_epoch': 1752959694, 'localtime': '2025-07-19 22:14'}, 'current': {'last_updated_epoch': 1752958800, 'last_updated': '2025-07-19 22:00', 'temp_c': 19.3, 'temp_f': 66.7, 'is_day': 0, 'condition': {'text': 'Clear', 'icon': '//cdn.weatherapi.com/weather/64x64/night/113.png', 'code': 1000}, 'wind_mph': 4.7, 'wind_kph': 7.6, 'wind_degree': 203, 'wind_dir': 'SSW', 'pressure_mb': 1003.0, 'pressure_in': 29.62, 'precip_mm': 0.0, 'precip_in': 0.0, 'humidity': 78, 'cloud': 0, 'feelslike_c': 19.3, 'feelslike_f': 66.7, 'windchill_c': 17.9, 'windchill_f': 64.3, 'heatindex_c': 17.9, 'heatindex_f': 64.3, 'dewpoint_c': 12.9, 'dewpoint_f': 55.2, 'vis_km': 10.0, 'vis_miles': 6.0, 'uv': 0.0, 'gust_mph': 7.6, 'gust_kph': 12.3}}\", \"score\": 0.8888103, \"raw_content\": null}, {\"url\": \"https://www.youtube.com/watch?v=P9HfA2cO1HI\", \"title\": \"Thunderstorms push north - Morning Weather Forecast UK - YouTube\", \"content\": \"... hourly forecast and live warnings on the Met Office website or app. 19/07/2025 - Thunderstorms push north - Morning Weather Forecast UK – Met Office Weather.\", \"score\": 0.64639384, \"raw_content\": null}], \"response_time\": 1.44}\n",
      "==================================\u001b[1m Ai Message \u001b[0m==================================\n",
      "\n",
      "Based on the latest weather information for London, UK:\n",
      "- The temperature is 19.3°C (66.7°F)\n",
      "- The weather is clear\n",
      "- Humidity is at 78%\n",
      "- Wind speed is 7.6 km/h from the SSW direction\n",
      "- Visibility is good at 10 km\n",
      "- There's no precipitation\n",
      "\n",
      "The weather is quite mild and clear, though you might want to check a local weather service for the most up-to-the-minute forecast, especially as there might be some thunderstorms moving through the area according to the Met Office forecast.\n",
      "================================\u001b[1m Human Message \u001b[0m=================================\n",
      "\n",
      "What's the USD to GBP exchange rate?\n",
      "==================================\u001b[1m Ai Message \u001b[0m==================================\n",
      "\n",
      "[{'text': 'Let me search for the current USD to GBP exchange rate.', 'type': 'text'}, {'id': 'toolu_01W1VFeLWMZrwztuF6oqvvoy', 'input': {'query': 'current USD to GBP exchange rate', 'topic': 'finance', 'time_range': 'day'}, 'name': 'tavily_search', 'type': 'tool_use'}]\n",
      "Tool Calls:\n",
      "  tavily_search (toolu_01W1VFeLWMZrwztuF6oqvvoy)\n",
      " Call ID: toolu_01W1VFeLWMZrwztuF6oqvvoy\n",
      "  Args:\n",
      "    query: current USD to GBP exchange rate\n",
      "    topic: finance\n",
      "    time_range: day\n",
      "=================================\u001b[1m Tool Message \u001b[0m=================================\n",
      "Name: tavily_search\n",
      "\n",
      "{\"query\": \"current USD to GBP exchange rate\", \"follow_up_questions\": null, \"answer\": null, \"images\": [], \"results\": [{\"url\": \"https://www.forbes.com/advisor/money-transfer/currency-converter/usd-gbp/\", \"title\": \"USD To GBP: Convert United States Dollar to British Pound ...\", \"content\": \"1 USD = 0.745545 GBP Jul 19, 2025 16:07 UTC ... Check the currency rates against all the world currencies here. The currency converter below is easy to use and\", \"score\": 0.8138313, \"raw_content\": null}, {\"url\": \"https://www.forbes.com/advisor/money-transfer/currency-converter/gbp-usd/\", \"title\": \"GBP To USD: Convert British Pound Sterling to United ...\", \"content\": \"1 GBP = 1.3413 USD Jul 19, 2025 13:38 UTC ... Check the currency rates against all the world currencies here. The currency converter below is easy to use and the\", \"score\": 0.7950386, \"raw_content\": null}], \"response_time\": 1.77}\n",
      "==================================\u001b[1m Ai Message \u001b[0m==================================\n",
      "\n",
      "Based on the latest information:\n",
      "1 USD = 0.7455 GBP (British Pounds)\n",
      "or conversely,\n",
      "1 GBP = 1.3413 USD\n",
      "\n",
      "Please note that exchange rates fluctuate constantly throughout the day, so for the most accurate rate at the exact moment you're making a transaction, you should check with your bank or currency exchange service.\n",
      "================================\u001b[1m Human Message \u001b[0m=================================\n",
      "\n",
      "Where can I exchange money nearby?\n",
      "==================================\u001b[1m Ai Message \u001b[0m==================================\n",
      "\n",
      "[{'text': 'Let me search for currency exchange locations in London.', 'type': 'text'}, {'id': 'toolu_01EwoZCCPVsuZmbX7yjp3gQv', 'input': {'query': 'best currency exchange places London UK money exchange bureaus'}, 'name': 'tavily_search', 'type': 'tool_use'}]\n",
      "Tool Calls:\n",
      "  tavily_search (toolu_01EwoZCCPVsuZmbX7yjp3gQv)\n",
      " Call ID: toolu_01EwoZCCPVsuZmbX7yjp3gQv\n",
      "  Args:\n",
      "    query: best currency exchange places London UK money exchange bureaus\n",
      "=================================\u001b[1m Tool Message \u001b[0m=================================\n",
      "Name: tavily_search\n",
      "\n",
      "{\"query\": \"best currency exchange places London UK money exchange bureaus\", \"follow_up_questions\": null, \"answer\": null, \"images\": [], \"results\": [{\"url\": \"https://wise.com/gb/blog/currency-exchange-london\", \"title\": \"Best places to exchange currency in London - Wise\", \"content\": \"Three popular foreign exchange companies in London are Travelex, eurochange and Currency Online Group.\", \"score\": 0.8021998, \"raw_content\": null}, {\"url\": \"https://www.reddit.com/r/travel/comments/wj5amb/best_place_to_exchange_dollars_into_pounds_in/\", \"title\": \"Best place to exchange dollars into pounds in London? - Reddit\", \"content\": \"Marks and Spencer have a really good conversion rate. It's a supermarket but some have an office upstairs for currency conversion.\", \"score\": 0.6097339, \"raw_content\": null}], \"response_time\": 1.2}\n",
      "==================================\u001b[1m Ai Message \u001b[0m==================================\n",
      "\n",
      "Here are some popular places where you can exchange money in London:\n",
      "\n",
      "1. Major Currency Exchange Companies:\n",
      "- Travelex (multiple locations across London, including major train stations and airports)\n",
      "- Eurochange (various locations throughout the city)\n",
      "- Currency Online Group\n",
      "\n",
      "2. Alternative Options:\n",
      "- Marks & Spencer stores (some locations have currency exchange offices, often with competitive rates)\n",
      "- Post Office branches (generally offer reliable exchange services)\n",
      "- Major banks (though rates might not be as competitive)\n",
      "\n",
      "Some tips:\n",
      "- Exchange rates can vary significantly between locations\n",
      "- City center locations (especially around tourist areas) might have less favorable rates\n",
      "- It's often worth comparing rates between different providers\n",
      "- Some places offer better rates if you order online in advance\n",
      "- Avoid exchanging money at airports if possible, as rates are typically less favorable\n",
      "\n",
      "Would you like me to search for specific exchange locations in a particular area of London? If so, just let me know which area you're interested in, and I can provide more targeted information.\n"
     ]
    }
   ],
   "source": [
    "for s in step[\"messages\"]:\n",
    "    s.pretty_print()"
   ]
  },
  {
   "cell_type": "code",
   "execution_count": null,
   "metadata": {},
   "outputs": [],
   "source": []
  }
 ],
 "metadata": {
  "kernelspec": {
   "display_name": ".venv",
   "language": "python",
   "name": "python3"
  },
  "language_info": {
   "codemirror_mode": {
    "name": "ipython",
    "version": 3
   },
   "file_extension": ".py",
   "mimetype": "text/x-python",
   "name": "python",
   "nbconvert_exporter": "python",
   "pygments_lexer": "ipython3",
   "version": "3.11.2"
  }
 },
 "nbformat": 4,
 "nbformat_minor": 2
}
